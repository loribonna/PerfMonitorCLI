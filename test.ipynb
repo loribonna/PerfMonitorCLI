{
 "cells": [
  {
   "cell_type": "code",
   "execution_count": 1,
   "metadata": {
    "collapsed": true
   },
   "outputs": [],
   "source": [
    "import os\n",
    "import subprocess\n",
    "import sys\n",
    "from typing import List, Tuple\n",
    "import pandas as pd\n",
    "from io import StringIO"
   ]
  },
  {
   "cell_type": "code",
   "execution_count": 18,
   "outputs": [],
   "source": [
    "STATS = {\n",
    "    \"cpu\": {\n",
    "        \"info\": [\n",
    "            \"\\Informazioni processore(*)\\Flag limiti prestazioni\",\n",
    "            \"\\Informazioni processore(*)\\% limite prestazioni\",\n",
    "            \"\\Informazioni processore(*)\\Tempo medio inattività\",\n",
    "            \"\\Informazioni processore(*)\\Contrassegni stato processore\",\n",
    "            \"\\Informazioni processore(*)\\% frequenza massima\",\n",
    "            \"\\Informazioni processore(*)\\Frequenza processore\",\n",
    "            \"\\Informazioni processore(*)\\Interrupt/sec\",\n",
    "            \"\\Informazioni processore(*)\\% Tempo processore\",\n",
    "        ],\n",
    "        \"perf\": [\n",
    "            \"\\Informazioni processore(*)\\Prestazioni processore %\",\n",
    "            \"\\Processore(*)\\% Tempo processore\",\n",
    "            \"\\Processore(*)\\% Tempo utente\",\n",
    "            \"\\Processore(*)\\% Tempo privilegiato\",\n",
    "            \"\\Processore(*)\\Interrupt/sec\"\n",
    "        ],\n",
    "        \"temp\": [\n",
    "            \"\\Informazioni zona termica(*)\\Motivi limitazione\",\n",
    "            \"\\Informazioni zona termica(*)\\% limite passivo\",\n",
    "            \"\\Informazioni zona termica(*)\\Temperatura\"\n",
    "        ]\n",
    "    }\n",
    "}"
   ],
   "metadata": {
    "collapsed": false,
    "pycharm": {
     "name": "#%%\n"
    }
   }
  },
  {
   "cell_type": "code",
   "execution_count": 3,
   "outputs": [],
   "source": [
    "def run(command: str):\n",
    "    p = subprocess.Popen(command, stdout=subprocess.PIPE, shell=True)\n",
    "    result = p.communicate()\n",
    "    return result[0].decode('utf8', \"ignore\")"
   ],
   "metadata": {
    "collapsed": false,
    "pycharm": {
     "name": "#%%\n"
    }
   }
  },
  {
   "cell_type": "code",
   "execution_count": 19,
   "outputs": [],
   "source": [
    "with open('tmp.txt', \"w\") as f:\n",
    "    f.write(\"\\n\".join(STATS['cpu']['temp']))\n",
    "\n",
    "data = run(\"typeperf -cf .\\\\tmp.txt -sc 1\")\n",
    "df = pd.read_csv(StringIO(data), sep=\",\").iloc[:1]"
   ],
   "metadata": {
    "collapsed": false,
    "pycharm": {
     "name": "#%%\n"
    }
   }
  },
  {
   "cell_type": "code",
   "execution_count": 20,
   "outputs": [
    {
     "data": {
      "text/plain": "             (PDH-CSV 4.0)  \\\n0  02/06/2021 17:56:00.919   \n\n   \\\\DESKTOP-UDI5LJK\\Informazioni zona termica(\\_TZ.TZ0)\\Motivi limitazione  \\\n0                                                0.0                          \n\n   \\\\DESKTOP-UDI5LJK\\Informazioni zona termica(\\_TZ.TZ0)\\% limite passivo  \\\n0                                              100.0                        \n\n   \\\\DESKTOP-UDI5LJK\\Informazioni zona termica(\\_TZ.TZ0)\\Temperatura  \n0                                              330.0                  ",
      "text/html": "<div>\n<style scoped>\n    .dataframe tbody tr th:only-of-type {\n        vertical-align: middle;\n    }\n\n    .dataframe tbody tr th {\n        vertical-align: top;\n    }\n\n    .dataframe thead th {\n        text-align: right;\n    }\n</style>\n<table border=\"1\" class=\"dataframe\">\n  <thead>\n    <tr style=\"text-align: right;\">\n      <th></th>\n      <th>(PDH-CSV 4.0)</th>\n      <th>\\\\DESKTOP-UDI5LJK\\Informazioni zona termica(\\_TZ.TZ0)\\Motivi limitazione</th>\n      <th>\\\\DESKTOP-UDI5LJK\\Informazioni zona termica(\\_TZ.TZ0)\\% limite passivo</th>\n      <th>\\\\DESKTOP-UDI5LJK\\Informazioni zona termica(\\_TZ.TZ0)\\Temperatura</th>\n    </tr>\n  </thead>\n  <tbody>\n    <tr>\n      <th>0</th>\n      <td>02/06/2021 17:56:00.919</td>\n      <td>0.0</td>\n      <td>100.0</td>\n      <td>330.0</td>\n    </tr>\n  </tbody>\n</table>\n</div>"
     },
     "execution_count": 20,
     "metadata": {},
     "output_type": "execute_result"
    }
   ],
   "source": [
    "df"
   ],
   "metadata": {
    "collapsed": false,
    "pycharm": {
     "name": "#%%\n"
    }
   }
  }
 ],
 "metadata": {
  "kernelspec": {
   "name": "torch",
   "language": "python",
   "display_name": "Python (torch)"
  },
  "language_info": {
   "codemirror_mode": {
    "name": "ipython",
    "version": 2
   },
   "file_extension": ".py",
   "mimetype": "text/x-python",
   "name": "python",
   "nbconvert_exporter": "python",
   "pygments_lexer": "ipython2",
   "version": "2.7.6"
  }
 },
 "nbformat": 4,
 "nbformat_minor": 0
}